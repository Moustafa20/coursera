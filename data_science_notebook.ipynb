{
  "cells": [
    {
      "cell_type": "markdown",
      "metadata": {
        "id": "view-in-github",
        "colab_type": "text"
      },
      "source": [
        "<a href=\"https://colab.research.google.com/github/Moustafa20/coursera/blob/main/data_science_notebook.ipynb\" target=\"_parent\"><img src=\"https://colab.research.google.com/assets/colab-badge.svg\" alt=\"Open In Colab\"/></a>"
      ]
    },
    {
      "cell_type": "markdown",
      "source": [],
      "metadata": {
        "id": "wk0Q5DUEP5EV"
      }
    },
    {
      "cell_type": "markdown",
      "metadata": {
        "id": "GzGic7bOPaJ1"
      },
      "source": [
        "# Data Science Tools"
      ]
    },
    {
      "cell_type": "markdown",
      "metadata": {
        "id": "a6G8HdqQPaJ3"
      },
      "source": [
        "In this notebook, we explore various aspects of the Data Science ecosystem, including programming languages, libraries, tools, and some basic arithmetic operations.\n"
      ]
    },
    {
      "cell_type": "markdown",
      "metadata": {
        "id": "Vqy9F1tsPaJ4"
      },
      "source": [
        "Some popular languages that Data Scientists use are:\n",
        "1. Python\n",
        "2. R\n",
        "3. SQL\n",
        "4. Julia\n",
        "5. Scala"
      ]
    },
    {
      "cell_type": "markdown",
      "metadata": {
        "id": "iH4SQLDwPaJ5"
      },
      "source": [
        "Some commonly used libraries for Data Science include:\n",
        "- Pandas\n",
        "- NumPy\n",
        "- Matplotlib\n",
        "- Seaborn\n",
        "- Scikit-learn\n",
        "- TensorFlow\n",
        "- PyTorch"
      ]
    },
    {
      "cell_type": "markdown",
      "metadata": {
        "id": "r_qMPMoSPaJ5"
      },
      "source": [
        "| Data Science Tool |\n",
        "|------------------|\n",
        "| Jupyter Notebook |\n",
        "| RStudio         |\n",
        "| Apache Spark    |\n",
        "| TensorFlow      |\n",
        "| Scikit-learn    |\n"
      ]
    },
    {
      "cell_type": "markdown",
      "metadata": {
        "id": "ttwOL4J0PaJ6"
      },
      "source": [
        "Below are some examples of arithmetic expressions in Python.\n"
      ]
    },
    {
      "cell_type": "code",
      "source": [
        "# Multiply and add numbers\n",
        "print((3 * 4) + 5)"
      ],
      "metadata": {
        "colab": {
          "base_uri": "https://localhost:8080/"
        },
        "id": "tv3o8WKBPfzd",
        "outputId": "b9ebb43b-d8e9-4334-bcf6-ab6aa60a7ff2"
      },
      "execution_count": 1,
      "outputs": [
        {
          "output_type": "stream",
          "name": "stdout",
          "text": [
            "17\n"
          ]
        }
      ]
    },
    {
      "cell_type": "markdown",
      "metadata": {
        "id": "WVxxh_MOPaJ6"
      },
      "source": []
    },
    {
      "cell_type": "code",
      "source": [
        "# Convert minutes to hours\n",
        "minutes = 200\n",
        "hours = minutes / 60\n",
        "print(hours)"
      ],
      "metadata": {
        "colab": {
          "base_uri": "https://localhost:8080/"
        },
        "id": "FJnnbnWiPuS6",
        "outputId": "2c1f75f9-61eb-42eb-b269-41c2f81a77ec"
      },
      "execution_count": 2,
      "outputs": [
        {
          "output_type": "stream",
          "name": "stdout",
          "text": [
            "3.3333333333333335\n"
          ]
        }
      ]
    },
    {
      "cell_type": "code",
      "execution_count": null,
      "metadata": {
        "vscode": {
          "languageId": "plaintext"
        },
        "id": "uUi1bqIlPaJ7"
      },
      "outputs": [],
      "source": []
    },
    {
      "cell_type": "markdown",
      "source": [
        "**Objectives:**\n",
        "- List popular programming languages for Data Science\n",
        "- Identify commonly used libraries\n",
        "- Understand basic arithmetic operations\n",
        "- Convert time units in Python\n"
      ],
      "metadata": {
        "id": "7_KCiZ_nPx5-"
      }
    },
    {
      "cell_type": "markdown",
      "source": [
        "**Author:** [Moustafa Ebrahem]\n"
      ],
      "metadata": {
        "id": "NXK23zweP03f"
      }
    },
    {
      "cell_type": "code",
      "execution_count": null,
      "metadata": {
        "vscode": {
          "languageId": "plaintext"
        },
        "id": "f5s5d2dRPaJ7"
      },
      "outputs": [],
      "source": []
    }
  ],
  "metadata": {
    "language_info": {
      "name": "python"
    },
    "colab": {
      "provenance": [],
      "include_colab_link": true
    },
    "kernelspec": {
      "name": "python3",
      "display_name": "Python 3"
    }
  },
  "nbformat": 4,
  "nbformat_minor": 0
}